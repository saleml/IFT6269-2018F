{
 "cells": [
  {
   "cell_type": "markdown",
   "metadata": {},
   "source": [
    "## PGM@UDEM - HOMEWORK 1 - QUESTION 4 - SALEM LAHLOU - FALL 2018"
   ]
  },
  {
   "cell_type": "code",
   "execution_count": 1,
   "metadata": {},
   "outputs": [],
   "source": [
    "import numpy as np\n",
    "from matplotlib import pyplot as plt\n",
    "%matplotlib inline\n",
    "from scipy.stats import gamma"
   ]
  },
  {
   "cell_type": "code",
   "execution_count": 2,
   "metadata": {},
   "outputs": [],
   "source": [
    "MU, SIGMA_SQUARED = 0, 1"
   ]
  },
  {
   "cell_type": "markdown",
   "metadata": {},
   "source": [
    "### a) "
   ]
  },
  {
   "cell_type": "code",
   "execution_count": 3,
   "metadata": {},
   "outputs": [
    {
     "name": "stdout",
     "output_type": "stream",
     "text": [
      "The sample is: [ 0.03407968 -0.46880893  0.51360778 -0.52178948  0.12467484]\n"
     ]
    }
   ],
   "source": [
    "X = np.sqrt(SIGMA_SQUARED) * np.random.randn(5) + MU\n",
    "print(\"The sample is: {}\".format(X))"
   ]
  },
  {
   "cell_type": "markdown",
   "metadata": {},
   "source": [
    "### b)"
   ]
  },
  {
   "cell_type": "code",
   "execution_count": 4,
   "metadata": {},
   "outputs": [],
   "source": [
    "def MLE(X):\n",
    "    '''\n",
    "    X is an array of n elements: observations of the random process used to estimate the MLE mean/variance\n",
    "    '''\n",
    "    X_bar = np.mean(X)\n",
    "    mu_hat = X_bar\n",
    "    sigma_squared_hat = np.mean((X - X_bar)**2)\n",
    "    return mu_hat, sigma_squared_hat"
   ]
  },
  {
   "cell_type": "code",
   "execution_count": 5,
   "metadata": {},
   "outputs": [
    {
     "name": "stdout",
     "output_type": "stream",
     "text": [
      "mu_hat = -0.06364722084360139, sigma_squared_hat = 0.15045788485876638\n"
     ]
    }
   ],
   "source": [
    "mu_hat, sigma_squared_hat = MLE(X)\n",
    "print(\"mu_hat = {}, sigma_squared_hat = {}\".format(mu_hat, sigma_squared_hat))"
   ]
  },
  {
   "cell_type": "markdown",
   "metadata": {},
   "source": [
    "### c)"
   ]
  },
  {
   "cell_type": "code",
   "execution_count": 7,
   "metadata": {},
   "outputs": [
    {
     "data": {
      "image/png": "[encoded data removed]",
      "text/plain": [
       "<matplotlib.figure.Figure at 0x1a11f0f668>"
      ]
     },
     "metadata": {},
     "output_type": "display_data"
    }
   ],
   "source": [
    "N = 10000\n",
    "variances_estimates = np.zeros(N)\n",
    "\n",
    "for i in range(N):\n",
    "    X = np.sqrt(SIGMA_SQUARED) * np.random.randn(5) + MU\n",
    "    mu_hat, sigma_squared_hat = MLE(X)\n",
    "    variances_estimates[i] = sigma_squared_hat\n",
    "\n",
    "plt.hist(variances_estimates, bins=100, density=True, label='histogram')\n",
    "\n",
    "def gamma_pdf(x, n=5):\n",
    "    a = (n - 1)/2.\n",
    "    scale = 2. * SIGMA_SQUARED/n\n",
    "    return gamma.pdf(x, a, scale=scale)\n",
    "\n",
    "plt.plot(np.linspace(0, 5, 100), [gamma_pdf(x, n=5) for x in np.linspace(0, 5, 100)], label='pdf of a certain Gamma distribution')\n",
    "\n",
    "plt.legend()\n",
    "plt.title(\"Histogram of the 10,000 estimates of the Gaussian variance parameter - Some Gamma distribution (see below)\")\n",
    "plt.rcParams['figure.figsize'] = (13, 6)\n",
    "plt.show()"
   ]
  },
  {
   "cell_type": "markdown",
   "metadata": {},
   "source": [
    "The variance estimator is $\\hat{\\sigma}^2 = \\frac{\\sigma^2}{n} \\frac{1}{\\sigma^2} \\sum_{i=1}^n (X_i - \\bar{X})^2$. It is distributed along a $\\chi^2_{n-1}$ distribution **scaled by** $\\frac{\\sigma^2}{n}$. Because $\\chi^2_{n-1} = \\Gamma(k=\\frac{n-1}{2}, \\theta=2)$, then $\\hat{\\sigma}^2 \\sim \\Gamma(k=\\frac{n-1}{2}, \\theta=2 \\frac{\\sigma^2}{n}$). This explains why the histogram matches the pdf of the Gamma distribution defined above."
   ]
  },
  {
   "cell_type": "markdown",
   "metadata": {},
   "source": [
    "### d)"
   ]
  },
  {
   "cell_type": "code",
   "execution_count": 8,
   "metadata": {},
   "outputs": [
    {
     "name": "stdout",
     "output_type": "stream",
     "text": [
      "The empirical bias of the estimator is: -0.20369641145368433\n",
      "The empirical variance of the estimator is: 0.3172446144024871\n"
     ]
    }
   ],
   "source": [
    "bias = np.mean(variances_estimates) - SIGMA_SQUARED\n",
    "variance = np.var(variances_estimates)\n",
    "print(\"The empirical bias of the estimator is: {}\\nThe empirical variance of the estimator is: {}\".format(bias, variance))"
   ]
  },
  {
   "cell_type": "markdown",
   "metadata": {},
   "source": [
    "### e)"
   ]
  },
  {
   "cell_type": "markdown",
   "metadata": {},
   "source": [
    "The theoretical value of the bias of the estimator obtained in 3(d) is $-\\frac{1}{n} \\sigma^2$.\n",
    "\n",
    "The theoretical value of the variance of the estimator obtained in 3(d) is $\\frac{2(n-1)\\sigma^4}{n^2}$"
   ]
  },
  {
   "cell_type": "code",
   "execution_count": 9,
   "metadata": {},
   "outputs": [
    {
     "name": "stdout",
     "output_type": "stream",
     "text": [
      "The theoretical values of the bias and variance, with n=5 are are -0.2 and 0.32\n",
      "Matches the emirical values of the previous question. Isn't it great ?\n"
     ]
    }
   ],
   "source": [
    "def theoretical_bias(n=5):\n",
    "    return -1./n * SIGMA_SQUARED\n",
    "def theoretical_variance(n=5):\n",
    "    return 2. * (n-1) * SIGMA_SQUARED ** 2/ n**2 \n",
    "print(\"The theoretical values of the bias and variance, with n=5 are are {} and {}\".format(theoretical_bias(5), theoretical_variance(5)))\n",
    "print(\"Matches the emirical values of the previous question. Isn't it great ?\")      "
   ]
  }
 ],
 "metadata": {
  "kernelspec": {
   "display_name": "Python 3",
   "language": "python",
   "name": "python3"
  },
  "language_info": {
   "codemirror_mode": {
    "name": "ipython",
    "version": 3
   },
   "file_extension": ".py",
   "mimetype": "text/x-python",
   "name": "python",
   "nbconvert_exporter": "python",
   "pygments_lexer": "ipython3",
   "version": "3.6.4"
  }
 },
 "nbformat": 4,
 "nbformat_minor": 2
}
